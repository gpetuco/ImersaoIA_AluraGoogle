{
  "nbformat": 4,
  "nbformat_minor": 0,
  "metadata": {
    "colab": {
      "provenance": [],
      "authorship_tag": "ABX9TyOdkkXKL2n8n0IGsgg8CqvO",
      "include_colab_link": true
    },
    "kernelspec": {
      "name": "python3",
      "display_name": "Python 3"
    },
    "language_info": {
      "name": "python"
    }
  },
  "cells": [
    {
      "cell_type": "markdown",
      "metadata": {
        "id": "view-in-github",
        "colab_type": "text"
      },
      "source": [
        "<a href=\"https://colab.research.google.com/github/gpetuco/ImersaoIA_AluraGoogle/blob/main/ImersaoIA.ipynb\" target=\"_parent\"><img src=\"https://colab.research.google.com/assets/colab-badge.svg\" alt=\"Open In Colab\"/></a>"
      ]
    },
    {
      "cell_type": "markdown",
      "source": [
        "Instalando o SKD do Google"
      ],
      "metadata": {
        "id": "7dpo_DlDoyKI"
      }
    },
    {
      "cell_type": "code",
      "execution_count": 3,
      "metadata": {
        "id": "zDroKuFqopUG"
      },
      "outputs": [],
      "source": [
        "!pip install -q -U google-generativeai"
      ]
    },
    {
      "cell_type": "code",
      "source": [
        "from IPython.display import Markdown\n",
        "import textwrap\n",
        "import random\n",
        "\n",
        "# Import the Python SDK\n",
        "import google.generativeai as genai\n",
        "# Used to securely store your API key\n",
        "from google.colab import userdata\n",
        "api_key = userdata.get('SECRET_KEY')\n",
        "\n",
        "genai.configure(api_key=api_key)"
      ],
      "metadata": {
        "id": "WTmNv229pIZS"
      },
      "execution_count": 4,
      "outputs": []
    },
    {
      "cell_type": "markdown",
      "source": [
        "Listar os modelos disponíveis"
      ],
      "metadata": {
        "id": "t2W6WmR9pSnK"
      }
    },
    {
      "cell_type": "code",
      "source": [
        "for m in genai.list_models():\n",
        "  if 'generateContent' in m.supported_generation_methods:\n",
        "    print(m.name)"
      ],
      "metadata": {
        "colab": {
          "base_uri": "https://localhost:8080/",
          "height": 139
        },
        "id": "XLPP-pz6pVBC",
        "outputId": "4d756c6b-8d7a-408a-a29e-a2fecc92804f"
      },
      "execution_count": 5,
      "outputs": [
        {
          "output_type": "stream",
          "name": "stdout",
          "text": [
            "models/gemini-1.0-pro\n",
            "models/gemini-1.0-pro-001\n",
            "models/gemini-1.0-pro-latest\n",
            "models/gemini-1.0-pro-vision-latest\n",
            "models/gemini-1.5-pro-latest\n",
            "models/gemini-pro\n",
            "models/gemini-pro-vision\n"
          ]
        }
      ]
    },
    {
      "cell_type": "code",
      "source": [
        "generation_config = {\n",
        "    \"candidate_count\": 1,\n",
        "    \"temperature\": 0.5,\n",
        "}"
      ],
      "metadata": {
        "id": "PpP-To0rvA2m"
      },
      "execution_count": 6,
      "outputs": []
    },
    {
      "cell_type": "code",
      "source": [
        "safety_settings = {\n",
        "    \"HARASSMENT\": \"BLOCK_NONE\",\n",
        "    \"HATE\": \"BLOCK_NONE\",\n",
        "    \"SEXUAL\": \"BLOCK_NONE\",\n",
        "    \"DANGEROUS\": \"BLOCK_NONE\",\n",
        "}"
      ],
      "metadata": {
        "id": "E6MrrMOkvX0u"
      },
      "execution_count": 7,
      "outputs": []
    },
    {
      "cell_type": "markdown",
      "source": [
        "Inicializando o modelo"
      ],
      "metadata": {
        "id": "nZUVEUO9v65M"
      }
    },
    {
      "cell_type": "code",
      "source": [
        "model = genai.GenerativeModel(model_name=\"gemini-1.0-pro\",\n",
        "                              generation_config=generation_config,\n",
        "                              safety_settings = safety_settings)"
      ],
      "metadata": {
        "id": "1F20BYLbv8hW"
      },
      "execution_count": 8,
      "outputs": []
    },
    {
      "cell_type": "code",
      "source": [
        "response = model.generate_content(\"Vamos aprender conteúdo sobre IA. Me dê sugestões.\")\n",
        "print(response.text)"
      ],
      "metadata": {
        "colab": {
          "base_uri": "https://localhost:8080/",
          "height": 714
        },
        "id": "uz-J6-9Kwlwn",
        "outputId": "9c0680aa-f226-43b2-a274-17ff020c306b"
      },
      "execution_count": 9,
      "outputs": [
        {
          "output_type": "stream",
          "name": "stdout",
          "text": [
            "**Conceitos Fundamentais**\n",
            "\n",
            "* O que é Inteligência Artificial (IA)?\n",
            "* Tipos de IA: IA Fraca, IA Forte, IA Geral\n",
            "* Aprendizado de Máquina (ML) vs. Aprendizado Profundo (DL)\n",
            "* Redes Neurais e Aprendizado por Reforço\n",
            "\n",
            "**Aplicações da IA**\n",
            "\n",
            "* Reconhecimento de Imagem e Vídeo\n",
            "* Processamento de Linguagem Natural (PNL)\n",
            "* Veículos Autônomos\n",
            "* Assistentes Virtuais\n",
            "* Diagnóstico Médico\n",
            "\n",
            "**Ética e Implicações Sociais**\n",
            "\n",
            "* Viés e Discriminação em IA\n",
            "* Privacidade e Segurança\n",
            "* Impacto no Emprego e na Sociedade\n",
            "\n",
            "**Desenvolvimento de IA**\n",
            "\n",
            "* Linguagens de Programação para IA (Python, R)\n",
            "* Bibliotecas e Ferramentas de IA (TensorFlow, PyTorch)\n",
            "* Técnicas de Treinamento e Avaliação de Modelos\n",
            "\n",
            "**Tendências e Avanços**\n",
            "\n",
            "* IA Generativa (GPT-3, DALL-E 2)\n",
            "* IA Quântica\n",
            "* IA Explicável e Interpretável\n",
            "\n",
            "**Recursos Adicionais**\n",
            "\n",
            "* Cursos Online: Coursera, edX, Udemy\n",
            "* Livros: \"Inteligência Artificial: Uma Abordagem Moderna\" por Stuart Russell e Peter Norvig, \"Aprendizado Profundo\" por Ian Goodfellow, Yoshua Bengio e Aaron Courville\n",
            "* Conferências e Eventos: NeurIPS, ICML, CVPR\n",
            "* Revistas e Publicações: Nature Machine Intelligence, IEEE Transactions on Pattern Analysis and Machine Intelligence\n"
          ]
        }
      ]
    },
    {
      "cell_type": "code",
      "source": [
        "chat = model.start_chat(history=[])"
      ],
      "metadata": {
        "id": "sQvrIvgQw8jR"
      },
      "execution_count": 10,
      "outputs": []
    },
    {
      "cell_type": "code",
      "source": [
        "prompt = input(\"Esperando prompt: \")\n",
        "\n",
        "while prompt != \"fim\":\n",
        "  response = chat.send_message(prompt)\n",
        "  print(\"Resposta: \", response.text, \"\\n\")\n",
        "  prompt = input(\"Esperando prompt: \")"
      ],
      "metadata": {
        "colab": {
          "base_uri": "https://localhost:8080/",
          "height": 86
        },
        "id": "cFhylQ3_xRmi",
        "outputId": "18f70872-1d08-4562-a88a-5eee8b66284f"
      },
      "execution_count": 11,
      "outputs": [
        {
          "name": "stdout",
          "output_type": "stream",
          "text": [
            "Esperando prompt: Qual a capital do Brasil?\n",
            "Resposta:  Brasília \n",
            "\n",
            "Esperando prompt: fim\n"
          ]
        }
      ]
    },
    {
      "cell_type": "code",
      "source": [
        "import pathlib\n",
        "import textwrap\n",
        "import time\n",
        "\n",
        "import google.generativeai as genai\n",
        "\n",
        "from IPython.display import display\n",
        "from IPython.display import Markdown\n",
        "\n",
        "def menu():\n",
        "  print(\"Olá! Sou um Assistente de Aprendizado Personalizado em Inteligência Artificial! Além de chatbot, tenho funcionalidades como recomendações, tutoriais, informações, ajudas com projetos em desenvolvimentos e criação de quiz interativos!\")\n",
        "  time.sleep(2)\n",
        "  print(\"Menu:\\n\\nDigite qualquer coisa que precisar, mas se quiser utilizar o assistente personalizado, digite:\\n1 para recomendações\\n2 para criar um quiz\\n3 para assistência em projeto\\n4 para tutorial personalizado\\n5 para problemas\\n6 para ideias de projetos de IA\\n'fim' para sair\")\n",
        "  time.sleep(2)\n",
        "  prompt = input(\"Olá! Como posso ajudá-lo hoje? \")\n",
        "  return prompt\n",
        "\n",
        "\n",
        "\n",
        "def interact_with_chat(chat):\n",
        "    prompt = menu()\n",
        "    while prompt.lower() != \"fim\":\n",
        "        if \"1\" in prompt.lower():\n",
        "          prompt = input(\"Quais são seus interesses em IA? \")\n",
        "          response = model.generate_content(f\"Dê recomendações a partir da seguinte descrição: {prompt}\")\n",
        "          print(\"Assistente:\", response.text)\n",
        "        elif \"2\" in prompt.lower():\n",
        "          prompt = input(\"Vamos fazer um quiz de IA. Qual é o assunto que você quer abordar no quiz? \")\n",
        "          response = model.generate_content(f\"Crie um quiz sobre {prompt}\")\n",
        "          print(\"Assistente:\", response.text)\n",
        "        elif \"3\" in prompt.lower():\n",
        "          prompt = input(\"Legal, irei te auxiliar. Me informe o que poderia ajudar em seu projeto que está em desenvolvimento: \")\n",
        "          response = model.generate_content(f\"{prompt}\")\n",
        "          print(\"Assistente:\", response.text)\n",
        "        elif \"4\" in prompt.lower():\n",
        "          prompt = input(\"Vou criar um tutorial interativo para você. Qual tópico você gostaria de aprender? \")\n",
        "          response = model.generate_content(f\"Gere um tutorial baseado na descrição: {prompt}\")\n",
        "          print(\"Assistente:\", response.text)\n",
        "        elif \"5\" in prompt.lower():\n",
        "          prompt = input(\"Está enfrentando algum problema em seu projeto de IA? Me descreva o que está acontecendo: \")\n",
        "          response = model.generate_content(f\"{prompt}\")\n",
        "          print(\"Assistente:\", response.text)\n",
        "        elif \"6\" in prompt.lower():\n",
        "          prompt = input(\"Vou ajudá-lo a gerar uma ideia de projeto inovadora em IA. Descreva suas áreas de interesse: \")\n",
        "          response = model.generate_content(f\"Gere uma ideia de projeto baseada na descrição: {prompt}\")\n",
        "          print(\"Assistente:\", response.text)\n",
        "        else:\n",
        "          response = chat.send_message(prompt)\n",
        "          print(\"Assistente:\", response.text)\n",
        "          prompt = input(\"Como posso ajudá-lo hoje? \")\n",
        "\n",
        "def main():\n",
        "    chat = model.start_chat(history=[])\n",
        "    interact_with_chat(chat)\n",
        "\n",
        "if __name__ == \"__main__\":\n",
        "    main()"
      ],
      "metadata": {
        "colab": {
          "base_uri": "https://localhost:8080/",
          "height": 837
        },
        "id": "ldrSgiLNzKpD",
        "outputId": "d3659c65-49d0-4684-a812-34b0cf517850"
      },
      "execution_count": null,
      "outputs": [
        {
          "output_type": "stream",
          "name": "stdout",
          "text": [
            "Olá! Sou um Assistente de Aprendizado Personalizado em Inteligência Artificial! Além de chatbot, tenho funcionalidades como recomendações, tutoriais, informações, ajudas com projetos em desenvolvimentos e criação de quiz interativos!\n",
            "Menu:\n",
            "\n",
            "Digite qualquer coisa que precisar, mas se quiser utilizar o assistente personalizado, digite:\n",
            "1 para recomendações\n",
            "2 para criar um quiz\n",
            "3 para assistência em projeto\n",
            "4 para tutorial personalizado\n",
            "5 para problemas\n",
            "6 para ideias de projetos de IA\n",
            "'fim' para sair\n",
            "Olá! Como posso ajudá-lo hoje? Estou interessado sobre o Gemini e os projetos de IA desenvolvidos pela Google. Você poderia me instruir sobre o assunto e sobre quais tecnologias da IA devo aprofundar meus conhecimentos?\n",
            "Assistente: **Gemini**\n",
            "\n",
            "O Gemini é um modelo de linguagem grande (LLM) desenvolvido pela Google. É um modelo multimodal que pode processar e gerar texto, imagens, áudio e vídeo. O Gemini é treinado em um conjunto de dados massivo de texto, imagens e outros dados, o que lhe permite realizar uma ampla gama de tarefas, incluindo:\n",
            "\n",
            "* **Processamento de linguagem natural (PNL):** Compreensão de leitura, geração de idiomas, tradução\n",
            "* **Visão computacional:** Reconhecimento de objetos, geração de imagens, edição de fotos\n",
            "* **Aprendizado de máquina:** Classificação, regressão, detecção de anomalias\n",
            "\n",
            "**Projetos de IA da Google**\n",
            "\n",
            "Além do Gemini, a Google desenvolveu vários outros projetos de IA notáveis, incluindo:\n",
            "\n",
            "* **TensorFlow:** Uma biblioteca de código aberto para aprendizado de máquina\n",
            "* **Google Assistant:** Um assistente virtual alimentado por IA\n",
            "* **Waymo:** Uma empresa de carros autônomos\n",
            "* **DeepMind:** Uma empresa de pesquisa de IA focada em inteligência artificial geral\n",
            "* **Google AI Platform:** Uma plataforma de nuvem para desenvolvimento e implantação de IA\n",
            "\n",
            "**Tecnologias de IA para aprofundar seus conhecimentos**\n",
            "\n",
            "Para aprofundar seus conhecimentos sobre IA, considere se concentrar nas seguintes tecnologias:\n",
            "\n",
            "* **Aprendizado de máquina:** Algoritmos que permitem que os computadores aprendam com dados sem serem explicitamente programados\n",
            "* **Aprendizado profundo:** Um subconjunto do aprendizado de máquina que usa redes neurais para aprender padrões complexos\n",
            "* **Processamento de linguagem natural (PNL):** Técnicas para analisar e gerar linguagem humana\n",
            "* **Visão computacional:** Técnicas para analisar e gerar imagens\n",
            "* **Aprendizado por reforço:** Um tipo de aprendizado de máquina que ensina os agentes a tomar decisões por meio de tentativa e erro\n",
            "\n",
            "**Recursos adicionais**\n",
            "\n",
            "* [Site do Gemini](https://ai.google/research/projects/gemini/)\n",
            "* [Blog do Google AI](https://blog.google/technology/ai/)\n",
            "* [Cursos online de IA do Google](https://developers.google.com/machine-learning/crash-course/)\n"
          ]
        }
      ]
    },
    {
      "cell_type": "markdown",
      "source": [],
      "metadata": {
        "id": "4W6KF8UHo6Vi"
      }
    }
  ]
}